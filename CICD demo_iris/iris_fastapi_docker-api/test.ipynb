{
 "cells": [
  {
   "cell_type": "code",
   "execution_count": 1,
   "metadata": {},
   "outputs": [],
   "source": [
    "from iris.iris_classifier import IrisClassifier"
   ]
  },
  {
   "cell_type": "code",
   "execution_count": 2,
   "metadata": {},
   "outputs": [],
   "source": [
    "iris_classifier = IrisClassifier()"
   ]
  },
  {
   "cell_type": "code",
   "execution_count": 3,
   "metadata": {},
   "outputs": [
    {
     "data": {
      "text/plain": [
       "{'class': 'virginica', 'probability:': 0.61}"
      ]
     },
     "execution_count": 3,
     "metadata": {},
     "output_type": "execute_result"
    }
   ],
   "source": [
    "iris_classifier.classify_iris({\"sepal_l\": 5, \"sepal_w\": 2, \"petal_l\": 3, \"petal_w\": 4})"
   ]
  },
  {
   "cell_type": "code",
   "execution_count": 1,
   "metadata": {},
   "outputs": [],
   "source": [
    "import numpy as np\n",
    "from sklearn.datasets import load_iris\n",
    "from sklearn.ensemble import RandomForestClassifier\n",
    "import joblib"
   ]
  },
  {
   "cell_type": "code",
   "execution_count": 2,
   "metadata": {},
   "outputs": [],
   "source": [
    "X, y = load_iris(return_X_y=True)"
   ]
  },
  {
   "cell_type": "code",
   "execution_count": 5,
   "metadata": {},
   "outputs": [
    {
     "data": {
      "text/plain": [
       "array([0, 0, 0, 0, 0, 0, 0, 0, 0, 0, 0, 0, 0, 0, 0, 0, 0, 0, 0, 0, 0, 0,\n",
       "       0, 0, 0, 0, 0, 0, 0, 0, 0, 0, 0, 0, 0, 0, 0, 0, 0, 0, 0, 0, 0, 0,\n",
       "       0, 0, 0, 0, 0, 0, 1, 1, 1, 1, 1, 1, 1, 1, 1, 1, 1, 1, 1, 1, 1, 1,\n",
       "       1, 1, 1, 1, 1, 1, 1, 1, 1, 1, 1, 1, 1, 1, 1, 1, 1, 1, 1, 1, 1, 1,\n",
       "       1, 1, 1, 1, 1, 1, 1, 1, 1, 1, 1, 1, 2, 2, 2, 2, 2, 2, 2, 2, 2, 2,\n",
       "       2, 2, 2, 2, 2, 2, 2, 2, 2, 2, 2, 2, 2, 2, 2, 2, 2, 2, 2, 2, 2, 2,\n",
       "       2, 2, 2, 2, 2, 2, 2, 2, 2, 2, 2, 2, 2, 2, 2, 2, 2, 2])"
      ]
     },
     "execution_count": 5,
     "metadata": {},
     "output_type": "execute_result"
    }
   ],
   "source": []
  },
  {
   "cell_type": "code",
   "execution_count": null,
   "metadata": {},
   "outputs": [],
   "source": [
    "import numpy as np\n",
    "from sklearn.datasets import load_iris\n",
    "from sklearn.ensemble import RandomForestClassifier\n",
    "import joblib\n",
    "\n",
    "class IrisClassifier:\n",
    "    def __init__(self):\n",
    "        ## Load iris資料，分別賦予X, y\n",
    "        self.X, self.y = load_iris(return_X_y=True)\n",
    "        ## 預先定義一個名稱是我們訓練完的模型\n",
    "        self.model_fname_ = \"iris_model.pkl\"\n",
    "        try:\n",
    "            # joblib是我載入訓練好的模型\n",
    "            # 第一跑起來，是沒有iris_model.pkl這個檔案，所以會跑到except這邊\n",
    "            self.rfc = joblib.load(self.model_fname_)\n",
    "        except Exception as _:\n",
    "            # 定義一個rfc呼叫自己的train_model()這個功能\n",
    "            self.rfc = self.train_model()\n",
    "            # 訓練完後，把模型儲存起來\n",
    "            joblib.dump(self.rfc, self.model_fname_)\n",
    "            # 我們把類別的數字轉成文字，方便閱讀\n",
    "        self.iris_type = {\n",
    "            0: 'setosa',\n",
    "            1: 'versicolor',\n",
    "            2: 'virginica'\n",
    "        }\n",
    "\n",
    "    def train_model(self):\n",
    "        rfc = RandomForestClassifier()\n",
    "        ## 拿到資料去做訓練\n",
    "        model = rfc.fit(self.X, self.y)\n",
    "        return model\n",
    "    ##iris_classifier_router.py中就是調用這個函數去做預測\n",
    "    def classify_iris(self, features: dict):\n",
    "        ## features是一個字典格式，我可以用[]的方式得到數值，再轉為array的形式\n",
    "        X = [[features['sepal_l'], features['sepal_w'], features['petal_l'], features['petal_w']]]\n",
    "        ## 預測是哪一類\n",
    "        prediction = self.rfc.predict(X)\n",
    "        ## 最大的機率職from那個類\n",
    "        probability = self.rfc.predict_proba(X).max()\n",
    "        ## return一個json檔\n",
    "        return {'class': self.iris_type[prediction[0]],\n",
    "                'probability:': round(probability, 2)}"
   ]
  }
 ],
 "metadata": {
  "kernelspec": {
   "display_name": "Python 3",
   "language": "python",
   "name": "python3"
  },
  "language_info": {
   "codemirror_mode": {
    "name": "ipython",
    "version": 3
   },
   "file_extension": ".py",
   "mimetype": "text/x-python",
   "name": "python",
   "nbconvert_exporter": "python",
   "pygments_lexer": "ipython3",
   "version": "3.8.6"
  }
 },
 "nbformat": 4,
 "nbformat_minor": 2
}
